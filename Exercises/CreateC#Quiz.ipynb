{
 "cells": [
  {
   "cell_type": "markdown",
   "metadata": {},
   "source": [
    "##### __ISTA422__ \n",
    "##### _C#_Jupyter__\n",
    "\n",
    "## Name: *Denis Licona*\n",
    "###### File: *14 Mar 2020* "
   ]
  },
  {
   "cell_type": "markdown",
   "metadata": {},
   "source": [
    "Create an interger array containing 5 elements and diplay its content. "
   ]
  },
  {
   "cell_type": "code",
   "execution_count": 23,
   "metadata": {},
   "outputs": [
    {
     "name": "stdout",
     "output_type": "stream",
     "text": [
      "1\n",
      "2\n",
      "3\n",
      "4\n",
      "5\n"
     ]
    }
   ],
   "source": [
    "int[] myIntArray = {1, 2, 3, 4, 5};\n",
    "foreach(int i in myIntArray)\n",
    "    System.Console.WriteLine(i);"
   ]
  },
  {
   "cell_type": "markdown",
   "metadata": {},
   "source": [
    "Create a Firearm class with Speak method that takes two string parameters. "
   ]
  },
  {
   "cell_type": "code",
   "execution_count": 12,
   "metadata": {},
   "outputs": [],
   "source": [
    "using System;\n",
    "\n",
    "public class Firearm\n",
    "{\n",
    "    public void Speak(string name, string what)\n",
    "    {\n",
    "        Console.WriteLine($\"I am {name} and I go {what}.\");\n",
    "    }\n",
    "}"
   ]
  },
  {
   "cell_type": "markdown",
   "metadata": {},
   "source": [
    "Create a Rifle class that inherets from the Firearm class."
   ]
  },
  {
   "cell_type": "code",
   "execution_count": 13,
   "metadata": {},
   "outputs": [],
   "source": [
    "public class Rifle : Firearm\n",
    "{}"
   ]
  },
  {
   "cell_type": "markdown",
   "metadata": {},
   "source": [
    "Creat a new Rifle that implements the Speak method using \"a rifle\" and \"bang!\" as its values."
   ]
  },
  {
   "cell_type": "code",
   "execution_count": 14,
   "metadata": {},
   "outputs": [
    {
     "name": "stdout",
     "output_type": "stream",
     "text": [
      "I am a rifle and I go bang!.\r\n"
     ]
    }
   ],
   "source": [
    "Rifle f = new Rifle();\n",
    "f.Speak(\"a rifle\", \"bang!\")"
   ]
  },
  {
   "cell_type": "markdown",
   "metadata": {},
   "source": [
    "Create an unsorted Int array with 5 elements and display its content."
   ]
  },
  {
   "cell_type": "code",
   "execution_count": 15,
   "metadata": {},
   "outputs": [
    {
     "name": "stdout",
     "output_type": "stream",
     "text": [
      "The unsorted array contains these elements:\n",
      "3 5 1 7 2 "
     ]
    }
   ],
   "source": [
    "int[] arr1 = new int[5] {3,5,1,7,2};\n",
    "System.Console.WriteLine(\"The unsorted array contains these elements:\");\n",
    "foreach(int i in arr1)\n",
    "    System.Console.Write(i + \" \");"
   ]
  },
  {
   "cell_type": "markdown",
   "metadata": {},
   "source": [
    "Create a method to sort an array."
   ]
  },
  {
   "cell_type": "code",
   "execution_count": 20,
   "metadata": {},
   "outputs": [],
   "source": [
    "public static void sortArray(int[] arr1)\n",
    "{\n",
    "    int temp;\n",
    "    for(int i =0; i<arr1.Length -1; i++)\n",
    "    {\n",
    "        for(int j =0; j<arr1.Length - (1+i); j++)\n",
    "        {\n",
    "            if(arr1[j]>arr1[j+1])\n",
    "            {\n",
    "                temp = arr1[j + 1];\n",
    "                arr1[j + 1] = arr1[j];\n",
    "                arr1[j] = temp;\n",
    "            }\n",
    "        }\n",
    "    }\n",
    "}"
   ]
  },
  {
   "cell_type": "markdown",
   "metadata": {},
   "source": [
    "Implement your sort method on your array to test. "
   ]
  },
  {
   "cell_type": "code",
   "execution_count": 22,
   "metadata": {},
   "outputs": [
    {
     "name": "stdout",
     "output_type": "stream",
     "text": [
      "The sorted array is: \n",
      "1 2 3 5 7 "
     ]
    }
   ],
   "source": [
    "sortArray(arr1);\n",
    "System.Console.WriteLine(\"The sorted array is: \");\n",
    "foreach(int i in arr1)\n",
    "System.Console.Write(i + \" \");"
   ]
  },
  {
   "cell_type": "code",
   "execution_count": null,
   "metadata": {},
   "outputs": [],
   "source": []
  }
 ],
 "metadata": {
  "kernelspec": {
   "display_name": ".NET (C#)",
   "language": "C#",
   "name": ".net-csharp"
  },
  "language_info": {
   "file_extension": ".cs",
   "mimetype": "text/x-csharp",
   "name": "C#",
   "pygments_lexer": "csharp",
   "version": "8.0"
  }
 },
 "nbformat": 4,
 "nbformat_minor": 4
}
